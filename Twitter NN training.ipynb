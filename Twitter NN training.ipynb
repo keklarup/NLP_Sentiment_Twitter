{
 "cells": [
  {
   "cell_type": "markdown",
   "metadata": {},
   "source": [
    "This notebook is dedicated to training a NN to perform sentiment analysis on tweets. It uses a large training set of 1.5M labeled tweets from http://thinknook.com/twitter-sentiment-analysis-training-corpus-dataset-2012-09-22/ and a module I wrote to judge how often words show up in pos vs neg tweets (Sentiment_LUT)"
   ]
  },
  {
   "cell_type": "code",
   "execution_count": 2,
   "metadata": {
    "collapsed": true
   },
   "outputs": [],
   "source": [
    "import re\n",
    "import pandas as pd\n",
    "import pickle\n",
    "import numpy as np\n",
    "from sklearn.neural_network import MLPClassifier\n",
    "import matplotlib.pyplot as plt\n",
    "import Sentiment_LUT"
   ]
  },
  {
   "cell_type": "code",
   "execution_count": 3,
   "metadata": {
    "collapsed": true
   },
   "outputs": [],
   "source": [
    "#a simple way to process the training data to make it look like the data collected from Twitter in another notebook.\n",
    "def clean_tweet(tweet):\n",
    "    return ' '.join(re.sub(\"(@[A-Za-z0-9]+)|([^0-9A-Za-z \\t])|(\\w+:\\/\\/\\S+)\", \" \", tweet).split())\n",
    "\n",
    "#The GloVe table uses information from https://nlp.stanford.edu/projects/glove/ to convert words to numberic 1d vectors.\n",
    "#This def just creates a look up table for taking a word and quickly finding its vector representation.\n",
    "#dimension: can be 25, 50, 200, etc. sets size of word vector representation\n",
    "def GloVe_table(dimension):\n",
    "    file=open('NLP_files/glove.twitter.27B.%sd.txt'%(dimension), 'r',encoding=\"utf8\")\n",
    "    contents=file.read()\n",
    "    contents_lines=contents.split('\\n')\n",
    "    GloVe=pd.DataFrame([line.split(' ') for line in contents_lines[0:]])\n",
    "    GloVe.set_index(0,inplace=True) #set the word as the index for faster look-up table function\n",
    "    return GloVe.iloc[:,:].astype(float).copy()\n",
    "\n",
    "#This uses the Sentiment_LUT module I made previously to judge how often a word shows up in pos tweets vs neg tweets.\n",
    "#If the word shows up more often in one or the other, it will be useful to include in the analysis.\n",
    "#the sentiment_strength variable sets how extreme the imbalance in appearance between pos and neg tweets the word must have\n",
    "#to be used in the analysis.\n",
    "def sent_words(tweet,LUT,sentiment_strength):\n",
    "    tweet_words=pd.Series(tweet.split(' '));\n",
    "    #adding exception in the case there are no sentiment words in tweet.\n",
    "    #In that case, return original tweet.\n",
    "    try:\n",
    "        #a=' '.join(tweet_words[list(np.abs(LUT.loc[tweet_words.split(' '),'Score'])>sentiment_strength)])\n",
    "        a=' '.join(tweet_words[(np.abs(LUT.loc[tweet_words,'Score'])>sentiment_strength).values])\n",
    "    except:\n",
    "        #a=tweet\n",
    "        a=''\n",
    "    return a\n",
    "\n",
    "#using the GloVe table and sentiment look up table to create vectorized representations of tweets.\n",
    "#names of IMDB and LUT25 are left over from previous work with different training data and GloVe tables.\n",
    "def vectorize(IMDB,dimension,LUT25):\n",
    "    def vector(word):\n",
    "        try:\n",
    "            return LUT25.loc[word,:]\n",
    "        except:\n",
    "            return np.zeros(len(LUT25.iloc[0,:]))\n",
    "    def vector2(word_list):\n",
    "        words=pd.Series(word_list)\n",
    "        a=words.apply(vector).values.mean(axis=0)\n",
    "        return list(a)\n",
    "    for x in range(0,dimension):\n",
    "        IMDB.loc[:,'vector_%s'%(x)]=0\n",
    "    IMDB.loc[:,IMDB.columns[IMDB.columns.str.contains('vector')]]=IMDB.loc[:,'sentiment words'].str.split(' ').apply(vector2).apply(pd.Series).values\n",
    "    return IMDB"
   ]
  },
  {
   "cell_type": "markdown",
   "metadata": {},
   "source": [
    "Creating the sentiment look up table (if not already made)"
   ]
  },
  {
   "cell_type": "code",
   "execution_count": 90,
   "metadata": {
    "collapsed": false
   },
   "outputs": [
    {
     "name": "stdout",
     "output_type": "stream",
     "text": [
      "Wall time: 36.9 s\n"
     ]
    }
   ],
   "source": [
    "n=200000\n",
    "try:\n",
    "    LUT_sentiment_words=pd.read_csv('LUT_sentiment_words_%s.csv'%(n))\n",
    "    LUT_sentiment_words.set_index('words',inplace=True)\n",
    "except:\n",
    "    %time LUT_sentiment_words=Sentiment_LUT.LUT(n)\n",
    "    LUT_sentiment_words.to_csv('LUT_sentiment_words_%s.csv'%(n),index=False)\n",
    "    LUT_sentiment_words.set_index('words',inplace=True)"
   ]
  },
  {
   "cell_type": "markdown",
   "metadata": {},
   "source": [
    "Set the parameters for the neural network."
   ]
  },
  {
   "cell_type": "code",
   "execution_count": 94,
   "metadata": {
    "collapsed": true
   },
   "outputs": [],
   "source": [
    "training_tweets_per_label=100000 #1/2 of total training data Can go up to 1.5M/2, but slows training.\n",
    "sentiment=0.25; #the threshold to limit words in tweets used to make vector representation to only words found more often in pos or neg tweets.\n",
    "dimension=50; #dimension of word vectors. Needs to be a dimension downloaded from Stanford's GloVe data.\n",
    "nodes=200 #number of nodes in the single layer neural network"
   ]
  },
  {
   "cell_type": "markdown",
   "metadata": {},
   "source": [
    "And prepare the word vectors"
   ]
  },
  {
   "cell_type": "code",
   "execution_count": 6,
   "metadata": {
    "collapsed": false
   },
   "outputs": [
    {
     "name": "stdout",
     "output_type": "stream",
     "text": [
      "Wall time: 1min 2s\n"
     ]
    }
   ],
   "source": [
    "%time GloVe=GloVe_table(dimension)"
   ]
  },
  {
   "cell_type": "markdown",
   "metadata": {},
   "source": [
    "First, need to prepare the training set. I save a csv file of training set with these parameters so I don't have to remake it each time I open this notebook."
   ]
  },
  {
   "cell_type": "code",
   "execution_count": null,
   "metadata": {
    "collapsed": false
   },
   "outputs": [
    {
     "name": "stdout",
     "output_type": "stream",
     "text": [
      "sentiment word time\n"
     ]
    }
   ],
   "source": [
    "#using just a subset of the available data to keep run times managable\n",
    "#training_tweets_per_label=10000 #uncomment all if not set above\n",
    "#sentiment=0.2;\n",
    "#dimension=50;\n",
    "try:\n",
    "    Training_set=pd.read_csv('Training_set_sentiment_%s_vector_%s_size_%s.csv'%(sentiment, dimension,training_tweets_per_label));\n",
    "    print('training set already made')\n",
    "except:\n",
    "    #print('GloVe time')\n",
    "    #%time GloVe=GloVe_table(dimension)\n",
    "    #only taking a sample of the full 1.5M tweets in the training set\n",
    "    Training_set=pd.read_csv('NLP_files/SentimentAnalysisDataset.csv',usecols=['Sentiment','SentimentText'])\n",
    "    Training_set_neg_sample=Training_set.loc[Training_set.loc[:,'Sentiment']==0,:].sample(training_tweets_per_label);\n",
    "    Training_set_pos_sample=Training_set.loc[Training_set.loc[:,'Sentiment']==1,:].sample(training_tweets_per_label);\n",
    "    Training_set_sample=pd.concat([Training_set_neg_sample,Training_set_pos_sample])\n",
    "    Training_set_sample.reset_index(inplace=True)\n",
    "    del Training_set_sample['index']\n",
    "    Training_set=Training_set_sample.copy()\n",
    "    Training_set.rename(columns={\"SentimentText\": \"tweets\"},inplace=True)\n",
    "    #cleaning the set:\n",
    "    Training_set['tweets']=Training_set['tweets'].str.lower()\n",
    "    punctuation=['.','?','!','/',';',':','(',')'];\n",
    "    for elm in punctuation:\n",
    "        Training_set.loc[:,'tweets']=Training_set.loc[:,'tweets'].str.replace('%s'%elm,' %s '%elm)\n",
    "    Training_set.loc[:,'tweets']=Training_set.loc[:,'tweets'].apply(clean_tweet)\n",
    "    #finding the words that pass the sentiment threshold test for being more often in one type of tweet or the other\n",
    "    print('sentiment word time')\n",
    "    %time Training_set['sentiment words']=Training_set.loc[:,'tweets'].apply(lambda tweet: sent_words(tweet,LUT_sentiment_words,sentiment))\n",
    "    #converting tweets into vectores by averaging the word vectors of all the words in the tweet that passed the sentiment threshold\n",
    "    print('vectorizing time')\n",
    "    %time Training_set=vectorize(Training_set.loc[:,:],dimension,GloVe)\n",
    "    Training_set.fillna(0,inplace=True)\n",
    "    #and save the sentiment and vectorized tweets so this doesn't have to be redone with same parameters later\n",
    "    Training_set.to_csv('Training_set_sentiment_%s_vector_%s_size_%s.csv'%(sentiment, dimension,training_tweets_per_label),index=False)"
   ]
  },
  {
   "cell_type": "markdown",
   "metadata": {},
   "source": [
    "# Training a Neural Network"
   ]
  },
  {
   "cell_type": "markdown",
   "metadata": {},
   "source": [
    "At this point, I can start to train the neural network. There are several parameters I might want to change, from sentiment threshold values to neurons in the neural network. I'll do some EDA to find the best mix of parameters for the final system.\n",
    "\n",
    "## First, looking at dependence on sentiment threshold"
   ]
  },
  {
   "cell_type": "code",
   "execution_count": 18,
   "metadata": {
    "collapsed": false
   },
   "outputs": [
    {
     "name": "stdout",
     "output_type": "stream",
     "text": [
      "start round 0\n",
      "Fail! Training set has not been made!\n",
      "completed round 0\n",
      "start round 1\n",
      "Fail! Training set has not been made!\n",
      "completed round 1\n",
      "start round 2\n",
      "Fail! Training set has not been made!\n",
      "completed round 2\n"
     ]
    }
   ],
   "source": [
    "thresholds=[.1,.15,0.2,0.25,0.35]\n",
    "nodes=200\n",
    "#dimension=50; #uncomment if not set above\n",
    "training_tweets_per_label=10000\n",
    "df_results=pd.DataFrame(columns=['Threshold','trainAcc','testAcc'])\n",
    "x=0;\n",
    "runs=3\n",
    "for y in range(0,runs):\n",
    "    print('start round %s'%(y))\n",
    "    for val in thresholds:\n",
    "        sentiment=val;\n",
    "        try:\n",
    "            Training_set=pd.read_csv('Training_set_sentiment_%s_vector_%s_size_%s.csv'%(sentiment, dimension,training_tweets_per_label));\n",
    "            #print('start run %s'%(y))\n",
    "            train=Training_set.sample(int(.9*len(Training_set)));\n",
    "            test=Training_set.loc[[index for index in Training_set.index if index not in train.index],:]\n",
    "            vecIndex=train.columns[train.columns.str.contains('vector')]\n",
    "            labelIndex='Sentiment'\n",
    "            #nodes=150#uncomment if not set above\n",
    "            clf = MLPClassifier(solver='adam',alpha=1e-1,\n",
    "                             hidden_layer_sizes=(nodes), random_state=1)\n",
    "            clf.fit(train.loc[:,vecIndex].values,train.loc[:,labelIndex].values)\n",
    "            resultsNN=clf.predict(train.loc[:,vecIndex])\n",
    "            trainAcc=len(resultsNN[train.loc[:,labelIndex].values==resultsNN])/len(resultsNN)\n",
    "            resultsNN_test=clf.predict(test.loc[:,vecIndex])\n",
    "            testAcc=len(resultsNN_test[test.loc[:,labelIndex].values==resultsNN_test])/len(resultsNN_test)\n",
    "            df_results.loc[x,['Threshold','trainAcc','testAcc']]=[val,trainAcc,testAcc]\n",
    "            x=x+1\n",
    "        except:\n",
    "            print('Fail! Training set has not been made!')\n",
    "    print('completed round %s'%y)"
   ]
  },
  {
   "cell_type": "markdown",
   "metadata": {},
   "source": [
    "And can look at the results. I'm looking for a choice of sentiment threshold which optimizes the test value accuracy (and training accuracy to, if possible)."
   ]
  },
  {
   "cell_type": "code",
   "execution_count": 19,
   "metadata": {
    "collapsed": false
   },
   "outputs": [
    {
     "data": {
      "image/png": "[encoded data removed]",
      "text/plain": [
       "<matplotlib.figure.Figure at 0x13700435ba8>"
      ]
     },
     "metadata": {},
     "output_type": "display_data"
    }
   ],
   "source": [
    "results2=df_results.groupby('Threshold').sum()/runs\n",
    "plt.plot(results2.index,results2['trainAcc'],label='to reproduce training values')\n",
    "plt.plot(results2.index,results2['testAcc'],label='to predict test values')\n",
    "plt.legend(bbox_to_anchor=(1, 1),loc=2,borderaxespad=0.)\n",
    "plt.title('accuracy dependence on sentiment theshold value\\naverage over %s runs, %s nodes in neural network 50d'%(runs,nodes))\n",
    "plt.xlabel('sentiment theshold value')\n",
    "plt.ylabel('accuracy')\n",
    "#plt.savefig('Dependence_Sentiment_nodes%s_50d.png'%(nodes),bbox_inches='tight')\n",
    "plt.show()"
   ]
  },
  {
   "cell_type": "markdown",
   "metadata": {},
   "source": [
    "## Next, on number of samples"
   ]
  },
  {
   "cell_type": "code",
   "execution_count": 10,
   "metadata": {
    "collapsed": true
   },
   "outputs": [],
   "source": [
    "sentiment=.2;\n",
    "dimension=50;\n",
    "training_tweets_per_label=10000;\n",
    "nodes=200"
   ]
  },
  {
   "cell_type": "code",
   "execution_count": 11,
   "metadata": {
    "collapsed": true
   },
   "outputs": [],
   "source": [
    "Training_set=pd.read_csv('Training_set_sentiment_%s_vector_%s_size_%s.csv'%(sentiment, dimension,training_tweets_per_label));\n",
    "train=Training_set.sample(int(.9*len(Training_set)));\n",
    "test=Training_set.loc[[index for index in Training_set.index if index not in train.index],:]\n",
    "vecIndex=train.columns[train.columns.str.contains('vector')]\n",
    "labelIndex='Sentiment'"
   ]
  },
  {
   "cell_type": "code",
   "execution_count": 20,
   "metadata": {
    "collapsed": false
   },
   "outputs": [
    {
     "name": "stdout",
     "output_type": "stream",
     "text": [
      "starting run 0\n"
     ]
    },
    {
     "name": "stderr",
     "output_type": "stream",
     "text": [
      "C:\\Users\\Kyle\\AppData\\Local\\Continuum\\Anaconda3\\lib\\site-packages\\sklearn\\neural_network\\multilayer_perceptron.py:563: ConvergenceWarning: Stochastic Optimizer: Maximum iterations reached and the optimization hasn't converged yet.\n",
      "  % (), ConvergenceWarning)\n"
     ]
    },
    {
     "name": "stdout",
     "output_type": "stream",
     "text": [
      "completed run 0\n",
      "starting run 1\n",
      "completed run 1\n",
      "starting run 2\n",
      "completed run 2\n"
     ]
    }
   ],
   "source": [
    "subsets=[100,5000,9000,15000] #set based on trainning_tweets_per_label size\n",
    "df_results=pd.DataFrame(columns=['samples','trainAcc','testAcc'])\n",
    "nodes=200\n",
    "x=0\n",
    "runs=3 #more runs==less noise in average\n",
    "for y in range(0,runs):\n",
    "    print('starting run %s'%y)\n",
    "    for sub in subsets:\n",
    "        trainsub=train.sample(sub)\n",
    "        vecIndex=trainsub.columns[trainsub.columns.str.contains('vector')]\n",
    "        labelIndex='Sentiment'\n",
    "        clf = MLPClassifier(solver='adam',alpha=1e-1,\n",
    "                         hidden_layer_sizes=(nodes), random_state=1)\n",
    "        clf.fit(trainsub.loc[:,vecIndex].values,trainsub.loc[:,labelIndex].values)\n",
    "        resultsNN=clf.predict(trainsub.loc[:,vecIndex])\n",
    "        trainAcc=len(resultsNN[trainsub.loc[:,labelIndex].values==resultsNN])/len(resultsNN);\n",
    "        #print(trainAcc)\n",
    "        resultsNN_test=clf.predict(test.loc[:,vecIndex])\n",
    "        testAcc=len(resultsNN_test[test.loc[:,labelIndex].values==resultsNN_test])/len(resultsNN_test);\n",
    "        #print(testAcc)\n",
    "        df_results.loc[x,['samples','trainAcc','testAcc']]=[sub,trainAcc,testAcc]\n",
    "        x=x+1\n",
    "        #print('completed training with %s samples'%(sub))\n",
    "    print('completed run %s'%y)"
   ]
  },
  {
   "cell_type": "markdown",
   "metadata": {},
   "source": [
    "Here I'm looking for convergence, or expected convergance at the full amount of training data, between the train and test sets."
   ]
  },
  {
   "cell_type": "code",
   "execution_count": 21,
   "metadata": {
    "collapsed": false
   },
   "outputs": [
    {
     "data": {
      "image/png": "[encoded data removed]",
      "text/plain": [
       "<matplotlib.figure.Figure at 0x1370050ada0>"
      ]
     },
     "metadata": {},
     "output_type": "display_data"
    },
    {
     "name": "stdout",
     "output_type": "stream",
     "text": [
      "samples\n",
      "100      0.668000\n",
      "5000     0.734667\n",
      "9000     0.730333\n",
      "15000    0.740667\n",
      "Name: testAcc, dtype: float64\n"
     ]
    }
   ],
   "source": [
    "results2=df_results.groupby('samples').sum()/runs\n",
    "plt.plot(results2.index,results2['trainAcc'],label='to reproduce training values')\n",
    "plt.plot(results2.index,results2['testAcc'],label='to predict test values')\n",
    "plt.legend(bbox_to_anchor=(1, 1),loc=1,borderaxespad=0.)\n",
    "plt.title('accuracy dependence on number of training samples\\naverage over %s runs, %s nodes in neural network 50d'%(runs,nodes))\n",
    "plt.xlabel('number of training samples')\n",
    "plt.ylabel('accuracy')\n",
    "#plt.savefig('Dependence_Samples_nodes%s_50d_long_alpha-5.png'%(nodes),bbox_inches='tight')\n",
    "plt.show()\n",
    "print(results2.loc[:,'testAcc'])"
   ]
  },
  {
   "cell_type": "markdown",
   "metadata": {},
   "source": [
    "# Finally, regularization term, alpha:"
   ]
  },
  {
   "cell_type": "code",
   "execution_count": 24,
   "metadata": {
    "collapsed": false
   },
   "outputs": [],
   "source": [
    "sentiment=.2;\n",
    "dimension=50;\n",
    "training_tweets_per_label=10000;\n",
    "nodes=200;\n",
    "Training_set=pd.read_csv('Training_set_sentiment_%s_vector_%s_size_%s.csv'%(sentiment, dimension,training_tweets_per_label));"
   ]
  },
  {
   "cell_type": "code",
   "execution_count": 25,
   "metadata": {
    "collapsed": false
   },
   "outputs": [
    {
     "name": "stdout",
     "output_type": "stream",
     "text": [
      "start round 0\n",
      "completed round 0\n",
      "start round 1\n",
      "completed round 1\n",
      "start round 2\n",
      "completed round 2\n"
     ]
    }
   ],
   "source": [
    "regularization=[1e-7,1e-5,1e-4,1e-2,1e-1,5e-1,1e0]\n",
    "df_results=pd.DataFrame(columns=['reg','trainAcc','testAcc'])\n",
    "x=0;\n",
    "runs=3\n",
    "for y in range(0,runs):\n",
    "    print('start round %s'%(y))\n",
    "    for val in regularization:\n",
    "        sentiment=val;\n",
    "        try:\n",
    "            train=Training_set.sample(int(.9*len(Training_set)));\n",
    "            test=Training_set.loc[[index for index in Training_set.index if index not in train.index],:]\n",
    "            vecIndex=train.columns[train.columns.str.contains('vector')]\n",
    "            labelIndex='Sentiment'\n",
    "            #nodes=150#uncomment if not set above\n",
    "            clf = MLPClassifier(solver='adam',alpha=val,\n",
    "                             hidden_layer_sizes=(nodes), random_state=1)\n",
    "            clf.fit(train.loc[:,vecIndex].values,train.loc[:,labelIndex].values)\n",
    "            resultsNN=clf.predict(train.loc[:,vecIndex])\n",
    "            trainAcc=len(resultsNN[train.loc[:,labelIndex].values==resultsNN])/len(resultsNN)\n",
    "            resultsNN_test=clf.predict(test.loc[:,vecIndex])\n",
    "            testAcc=len(resultsNN_test[test.loc[:,labelIndex].values==resultsNN_test])/len(resultsNN_test)\n",
    "            df_results.loc[x,['reg','trainAcc','testAcc']]=[val,trainAcc,testAcc]\n",
    "            x=x+1\n",
    "        except:\n",
    "            print('Fail! Training set has not been made!')\n",
    "    print('completed round %s'%y)"
   ]
  },
  {
   "cell_type": "code",
   "execution_count": 26,
   "metadata": {
    "collapsed": false
   },
   "outputs": [
    {
     "data": {
      "image/png": "[encoded data removed]",
      "text/plain": [
       "<matplotlib.figure.Figure at 0x1370d955e48>"
      ]
     },
     "metadata": {},
     "output_type": "display_data"
    }
   ],
   "source": [
    "results2=df_results.groupby('reg').sum()/runs\n",
    "plt.semilogx(results2.index,results2['trainAcc'],label='to reproduce training values')\n",
    "plt.semilogx(results2.index,results2['testAcc'],label='to predict test values')\n",
    "plt.legend(bbox_to_anchor=(1, 1),loc=2,borderaxespad=0.)\n",
    "plt.title('accuracy dependence on regulation value\\naverage over %s runs, %s nodes in neural network 50d'%(runs,nodes))\n",
    "plt.xlabel('regularization value')\n",
    "plt.ylabel('accuracy')\n",
    "#plt.savefig('Dependence_regularization_nodes%s_50d.png'%(nodes),bbox_inches='tight')\n",
    "plt.show()"
   ]
  },
  {
   "cell_type": "markdown",
   "metadata": {},
   "source": [
    "# With best choice of parameters, create neural network:"
   ]
  },
  {
   "cell_type": "code",
   "execution_count": 88,
   "metadata": {
    "collapsed": false
   },
   "outputs": [
    {
     "name": "stdout",
     "output_type": "stream",
     "text": [
      "Wall time: 42.3 s\n",
      "0.7622944444444445\n",
      "0.75575\n"
     ]
    }
   ],
   "source": [
    "sentiment=.2;\n",
    "dimension=50;\n",
    "training_tweets_per_label=100000;\n",
    "nodes=200\n",
    "reg=1e-1\n",
    "\n",
    "Training_set=pd.read_csv('Training_set_sentiment_%s_vector_%s_size_%s.csv'%(sentiment, dimension,training_tweets_per_label));\n",
    "train=Training_set.sample(int(.9*len(Training_set)));\n",
    "test=Training_set.loc[[index for index in Training_set.index if index not in train.index],:]\n",
    "vecIndex=train.columns[train.columns.str.contains('vector')]\n",
    "labelIndex='Sentiment'\n",
    "\n",
    "clf = MLPClassifier(solver='adam',alpha=reg,\n",
    "                 hidden_layer_sizes=(nodes), random_state=1)\n",
    "%time clf.fit(train.loc[:,vecIndex].values,train.loc[:,labelIndex].values)\n",
    "resultsNN=clf.predict(train.loc[:,vecIndex])\n",
    "print(len(resultsNN[train.loc[:,labelIndex].values==resultsNN])/len(resultsNN))\n",
    "resultsNN_test=clf.predict(test.loc[:,vecIndex])\n",
    "print(len(resultsNN_test[test.loc[:,labelIndex].values==resultsNN_test])/len(resultsNN_test))"
   ]
  },
  {
   "cell_type": "markdown",
   "metadata": {},
   "source": [
    "Some other scores I've seen with different mixes of parameters:"
   ]
  },
  {
   "cell_type": "code",
   "execution_count": null,
   "metadata": {
    "collapsed": true
   },
   "outputs": [],
   "source": [
    "# sentiment=.2;\n",
    "# dimension=50;\n",
    "# training_tweets_per_label=100000;\n",
    "# nodes=200\n",
    "# reg=1e-3\n",
    "# score: 78.6/76.2\n",
    "\n",
    "# sentiment=.2;\n",
    "# dimension=50;\n",
    "# training_tweets_per_label=200000;\n",
    "# nodes=200\n",
    "# reg=1e-3\n",
    "# score: 77.8/76.9\n",
    "\n",
    "# sentiment=.2;\n",
    "# dimension=50;\n",
    "# training_tweets_per_label=200000;\n",
    "# nodes=200\n",
    "# reg=1e-2\n",
    "# score: 77.3/76.5\n",
    "\n",
    "# sentiment=.2;\n",
    "# dimension=50;\n",
    "# training_tweets_per_label=200000;\n",
    "# nodes=300\n",
    "# reg=1e-3\n",
    "# score: 78.4/76.4\n",
    "\n",
    "# sentiment=.2;\n",
    "# dimension=50;\n",
    "# training_tweets_per_label=200000;\n",
    "# nodes=250\n",
    "# reg=1e-2\n",
    "# score: 77.2/76.6"
   ]
  },
  {
   "cell_type": "markdown",
   "metadata": {},
   "source": [
    "# And pickle the results\n",
    "\n",
    "Once I have a neural network I'm happy with, I pickle it so that I don't have to retrain it again later. Now I can just unpickle this neural network in another notebook and use it to predict the sentiment of tweets that are not labelled."
   ]
  },
  {
   "cell_type": "code",
   "execution_count": 77,
   "metadata": {
    "collapsed": true
   },
   "outputs": [],
   "source": [
    "with open('NeuralNetwork_hiddenlayer_%s_sentiment_%s_vector_%s_size_%s.pkl'%(nodes,sentiment,dimension,training_tweets_per_label), 'wb') as fid:\n",
    "    pickle.dump(clf, fid)    "
   ]
  },
  {
   "cell_type": "markdown",
   "metadata": {},
   "source": [
    "Check that it worked:"
   ]
  },
  {
   "cell_type": "code",
   "execution_count": 81,
   "metadata": {
    "collapsed": true
   },
   "outputs": [],
   "source": [
    "sentiment=.2;\n",
    "dimension=50;\n",
    "training_tweets_per_label=100000;\n",
    "nodes=150\n",
    "reg=1e-1"
   ]
  },
  {
   "cell_type": "code",
   "execution_count": 82,
   "metadata": {
    "collapsed": false
   },
   "outputs": [],
   "source": [
    "with open('NeuralNetwork_hiddenlayer_%s_sentiment_%s_vector_%s_size_%s.pkl'%(nodes,sentiment,dimension,training_tweets_per_label), 'rb') as fid:\n",
    "    clf2 = pickle.load(fid)"
   ]
  },
  {
   "cell_type": "code",
   "execution_count": 83,
   "metadata": {
    "collapsed": false
   },
   "outputs": [
    {
     "name": "stdout",
     "output_type": "stream",
     "text": [
      "0.7566\n"
     ]
    }
   ],
   "source": [
    "resultsNN_test=clf2.predict(test.loc[:,vecIndex])\n",
    "print(len(resultsNN_test[test.loc[:,labelIndex].values==resultsNN_test])/len(resultsNN_test))"
   ]
  },
  {
   "cell_type": "markdown",
   "metadata": {},
   "source": [
    "One last check. The neural network isn't perfect. It only has a 75-77% accuracy rating. I want to see if that error is evenly distributed between predicting neg tweets and positive tweets, or if it's predominantly for one or the other.\n",
    "\n",
    "If it's equally distributed, the error rate can by and large be ignored when averaging over many tweets. If it's not, I'll need to worry about the error rate. on later analysis."
   ]
  },
  {
   "cell_type": "code",
   "execution_count": 84,
   "metadata": {
    "collapsed": false
   },
   "outputs": [
    {
     "name": "stdout",
     "output_type": "stream",
     "text": [
      "0.25829075243\n",
      "0.228565725122\n"
     ]
    }
   ],
   "source": [
    "#try verify error isn't in only one sentiment type\n",
    "print(clf2.predict(test.loc[test.loc[:,'Sentiment']==0,vecIndex]).mean())\n",
    "print(1-clf2.predict(test.loc[test.loc[:,'Sentiment']==1,vecIndex]).mean())"
   ]
  },
  {
   "cell_type": "code",
   "execution_count": null,
   "metadata": {
    "collapsed": true
   },
   "outputs": [],
   "source": []
  }
 ],
 "metadata": {
  "anaconda-cloud": {},
  "kernelspec": {
   "display_name": "Python [conda root]",
   "language": "python",
   "name": "conda-root-py"
  },
  "language_info": {
   "codemirror_mode": {
    "name": "ipython",
    "version": 3
   },
   "file_extension": ".py",
   "mimetype": "text/x-python",
   "name": "python",
   "nbconvert_exporter": "python",
   "pygments_lexer": "ipython3",
   "version": "3.5.2"
  }
 },
 "nbformat": 4,
 "nbformat_minor": 1
}
